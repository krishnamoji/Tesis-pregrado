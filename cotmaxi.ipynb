{
  "nbformat": 4,
  "nbformat_minor": 0,
  "metadata": {
    "colab": {
      "name": "cotmaxi.ipynb",
      "provenance": [],
      "authorship_tag": "ABX9TyOCZq5yQNGot4VzVTD+kPRz",
      "include_colab_link": true
    },
    "kernelspec": {
      "name": "python3",
      "display_name": "Python 3"
    },
    "language_info": {
      "name": "python"
    }
  },
  "cells": [
    {
      "cell_type": "markdown",
      "metadata": {
        "id": "view-in-github",
        "colab_type": "text"
      },
      "source": [
        "<a href=\"https://colab.research.google.com/github/krishnamoji/Tesis-pregrado/blob/main/cotmaxi.ipynb\" target=\"_parent\"><img src=\"https://colab.research.google.com/assets/colab-badge.svg\" alt=\"Open In Colab\"/></a>"
      ]
    },
    {
      "cell_type": "markdown",
      "source": [
        "A partir del codigo Final2.0 hacemos un limite de imax dependiendo de Energy_cota"
      ],
      "metadata": {
        "id": "cO61toxdT2wz"
      }
    },
    {
      "cell_type": "code",
      "execution_count": 2,
      "metadata": {
        "colab": {
          "base_uri": "https://localhost:8080/"
        },
        "id": "AjdvXPyzTmZh",
        "outputId": "3921dc46-bf3c-40ba-d745-cae7f02e2400"
      },
      "outputs": [
        {
          "output_type": "stream",
          "name": "stdout",
          "text": [
            "Looking in indexes: https://pypi.org/simple, https://us-python.pkg.dev/colab-wheels/public/simple/\n",
            "Collecting py3nj\n",
            "  Downloading py3nj-0.1.2.tar.gz (28 kB)\n",
            "Building wheels for collected packages: py3nj\n",
            "  Building wheel for py3nj (setup.py) ... \u001b[?25l\u001b[?25hdone\n",
            "  Created wheel for py3nj: filename=py3nj-0.1.2-cp37-cp37m-linux_x86_64.whl size=102675 sha256=1973657457f7991463c003efc5cda782acfc733a813a17ced4054543f5cf04fc\n",
            "  Stored in directory: /root/.cache/pip/wheels/dd/e8/bb/9e13947719ac9d5a9191f7d788a5025a377d6d1cb1dd1bd330\n",
            "Successfully built py3nj\n",
            "Installing collected packages: py3nj\n",
            "Successfully installed py3nj-0.1.2\n"
          ]
        }
      ],
      "source": [
        "import matplotlib.pyplot as plt\n",
        "import matplotlib as mpl\n",
        "import numpy as np\n",
        "from scipy.special import legendre\n",
        "from scipy.special import sph_harm\n",
        "from scipy import integrate\n",
        "from numpy import linalg as lg\n",
        "import time\n",
        "!pip install py3nj\n",
        "import py3nj as nj"
      ]
    },
    {
      "cell_type": "code",
      "source": [
        "ECM=24.5\n",
        "INT_INICIAL=-3\n",
        "INT_FINAL=3\n",
        "NumPasos=201\n",
        "maxi=20\n",
        "maxl=2\n",
        "maxk=2\n",
        "Zta=30\n",
        "ZBe=4\n",
        "Numeromasicota=64\n",
        "NumeromasicoBe=10\n",
        "h=0.4 #factor de reescalamiento para Be_11\n",
        "Energy_Cota=21 #Cota de energia para que se cumpla la aproximación\n",
        "a0=Zta*ZBe*1.44/(2*ECM)\n",
        "ecarac=(197.3*((2*ECM)**(1.5)))/(1.44*Zta*ZBe*np.sqrt(8743.68))\n",
        "maxilambda=3\n",
        "t = np.linspace(INT_INICIAL, INT_FINAL, NumPasos)\n",
        "espaciado = t[1]-t[0]"
      ],
      "metadata": {
        "id": "yCr4kXxQTuuR"
      },
      "execution_count": 3,
      "outputs": []
    },
    {
      "cell_type": "code",
      "source": [
        "def Rutherford(a_0,angulo): return a_0**2/(4*np.sin(angulo/2)**4)\n",
        "#polinomio de Legrenge\n",
        "def P(x,Lambda): \n",
        "  leg = legendre(Lambda)\n",
        "  return leg(x)\n",
        "#Wood Saxon\n",
        "def f(r,R,a): return (1+np.exp((r-R)/a))**(-1)\n",
        "#Derivada de Wood Saxon\n",
        "def df(r,R,a): return -np.exp((r-R)/a)/(a*(1+np.exp((r-R)/a))**2)\n",
        "#En la función para_im se cálcula el parametro de impacto a partir del ángulo de deflexión dado en radianes en la variable angdefle.\n",
        "def param_im(angdefle): \n",
        "  b=angdefle/2.0;\n",
        "  b=np.tan(b);\n",
        "  b=1.0/b;\n",
        "  b*=a0;\n",
        "  return b;\n",
        "def Vc(r,Rc):\n",
        "    K = 4*30*1.44 # K=Zp*Zt*e^2 donde e^2=1.44 MeV fm\n",
        "    if r<=Rc:  return K*(3*Rc**2-r**2) / (2*Rc**3) #K/Rc\n",
        "    else:     return K/r\n",
        "def core(x):\n",
        "  Vr,Vi,Rr,Ri,av=86.2,43.4,6.77,7.39,0.7 \n",
        "  Rc=1.25*(10**(1/3)+(64)**(1/3))\n",
        "  return -Vr*f(x,Rr,av)-1j*Vi*f(x,Ri,av)+Vc(x,Rc) #R**2+r**2+2*R*k*r*x\n",
        "def fragmento(x):\n",
        "  Vr,Vi,Rr,Ri,av,Vs,Rs,a_s=5.17,0.31,4.81,4.81,0.67,6.09,5.12,0.53\n",
        "  return -Vr*f(x,Rr,av)-1j*(Vi*f(x,Ri,av)-4*Vs*a_s*df(x,Rr,av))\n",
        "def integralcore(R,r,Lambda): #x=cos(angulo) donde el angulo es entre R y r. Se multiplica por el polinomio\n",
        "  k=-1/11\n",
        "  F= lambda x:core(np.sqrt(R**2+(k*r)**2+2*R*k*r*x))*P(x,Lambda)# |\\vec{R}-k\\vec{r}|=raiz(R**2+(k*r)**2-2*R*k*r*x)\n",
        "  return integrate.romberg(F,-1,1,divmax=8,tol=1.0e-2)\n",
        "def integralfragmento(R,r,Lambda):#x=cos(angulo) donde el angulo es entre R y r.Se multiplica por el polinomio\n",
        "  k=10/11\n",
        "  G= lambda x:fragmento(np.sqrt(R**2+(k*r)**2+2*R*k*r*x))*P(x,Lambda)# |\\vec{R}+k\\vec{r}|=raiz(R**2+(k*r)**2+2*R*k*r*x)\n",
        "  return integrate.romberg(G,-1,1,divmax=8,tol=1.0e-2)\n",
        "def integralV_0(R,Lambda):\n",
        "  V=integralfragmento(R,0,Lambda)+integralcore(R,0,Lambda)\n",
        "  return V.real\n",
        "def U_Lambda(R,r,Lambda): return ((2*Lambda+1)/2)*(integralfragmento(R,r,Lambda)+integralcore(R,r,Lambda)-integralV_0(R,Lambda))\n",
        "\n",
        "def Be_11(maxi,maxl,maxk,s):\n",
        "  a,a0,R=0,0.6,2.585\n",
        "  n=30 # n es el grado del polinomio\n",
        "  ENERGY=np.zeros((maxi,maxl,maxk))\n",
        "  EIGE=np.zeros((maxi,maxl, maxk,n))\n",
        "  coef=maxk\n",
        "  for l in range(maxl):\n",
        "    if l<s: MAXK=2*l+1\n",
        "    else: MAXK=coef\n",
        "    for m in range(MAXK):\n",
        "      if l%2==0: Vl=62.52 #MeV\n",
        "      else: Vl=39.74 #MeV\n",
        "      J=np.abs(l-s)+m\n",
        "      spinOrb=0.5*(J*(J+1)-l*(l+1)-s*(s+1))\n",
        "      Vls=21 #Vls esta en MeV fm^2\n",
        "      A1,A2=10,1\n",
        "      C=20.736*(A1+A2)/(A1*A2)\n",
        "      h=0.4\n",
        "      [X,W]=np.polynomial.laguerre.laggauss(n)\n",
        "      T=[]\n",
        "      for i in range (n): T.append([0]*n)\n",
        "      V=[]\n",
        "      for i in range (n): V.append([0]*n)\n",
        "      H=[]\n",
        "      for i in range (n): H.append([0]*n)\n",
        "      for i in range(0,n):\n",
        "          for j in range(0,n):\n",
        "              if(i==j):\n",
        "                  T[i][j]=(1/h**2)*C*((4+(4*n+2)*X[i]-X[i]**2)/(12*X[i]**2))\n",
        "                  V[i][j]=-Vl*f((X[i]*h),R,a0)+Vls*df((X[i]*h),R,a0)*(1/(X[i]*h))*spinOrb+C*l*(l+1)/((X[i]*h)**2)\n",
        "                  H[i][j]=T[i][j]+V[i][j]\n",
        "              else:\n",
        "                  T[i][j]=(1/h**2)*(-1)**(i-j)*C*(((X[i]+X[j]))/(np.sqrt(X[i]*X[j])*(X[i]-X[j])**2))\n",
        "                  V[i][j]=0\n",
        "                  H[i][j]=T[i][j]+V[i][j]\n",
        "      values, vectors = lg.eig(H) #Calculo de los autovalores y autovectores normalizados\n",
        "      idx = values.argsort()[::1] #Ordenar los autovalores y autovectores  \n",
        "      values = values[idx]\n",
        "      vectors = vectors[:,idx]\n",
        "      vectors = np.transpose(vectors)\n",
        "      if (values[0]<-1):\n",
        "        values=np.delete(values,0,0)\n",
        "        vectors=np.delete(vectors,0,0)\n",
        "      if (len(values)>maxi):\n",
        "        for i in range(maxi):\n",
        "          ENERGY[i][l][m]=values[i]\n",
        "          for N in range(30):\n",
        "            EIGE[i][l][m][N]=vectors[i][N]\n",
        "      else:\n",
        "        for i in range(len(values)):\n",
        "          ENERGY[i][l][m]=values[i]\n",
        "          for N in range(30):\n",
        "            EIGE[i][l][m][N]=vectors[i][N]        \n",
        "  return ENERGY,EIGE\n",
        "def coefU_Lambda(angdefle,opcion): #Se calcula los coeficientes U_lambda de la suma, donde se registran los valores en un tensor donde los indices so omega(tiempo), i (el r_n) y lambda\n",
        "  POT=np.zeros((NumPasos,30, maxilambda),dtype=np.complex128)\n",
        "  [X,W]=np.polynomial.laguerre.laggauss(30)\n",
        "  parametroIm=param_im(angdefle)\n",
        "  excentricidad=np.sqrt(1+(parametroIm/a0)**2)\n",
        "  for Lambda in range(maxilambda):\n",
        "    for lu in range(NumPasos):\n",
        "      R=0\n",
        "      if(opcion==1): #Las opciones son para el RK4\n",
        "        R=INT_INICIAL+lu*espaciado\n",
        "        R=a0*((excentricidad*np.cosh(R))+1)\n",
        "      if(opcion==2):\n",
        "        R=INT_INICIAL+lu*espaciado+0.5*espaciado\n",
        "        R=a0*((excentricidad*np.cosh(R))+1)\n",
        "      if(opcion==3):\n",
        "        R=INT_INICIAL+lu*espaciado+espaciado\n",
        "        R=a0*((excentricidad*np.cosh(R))+1)\n",
        "      for n in range(30):\n",
        "        POT[lu][n][Lambda]=U_Lambda(R,h*X[n],Lambda)\n",
        "  return POT\n",
        "\n",
        "def sph_harm_conj(mu,Lambda,theta,phi): # m,l, theta, phi\n",
        "  A=sph_harm(mu,Lambda,theta,phi)\n",
        "  return A.conjugate()\n",
        "def hat(p): return np.sqrt(1*p+1)\n",
        "def coeficiente(twol,twolp,twoj,twojp,twos,twom,twomp,twolambd):\n",
        "  w=np.sqrt(4*np.pi)\n",
        "  exp=(-1)**((twol+twolp+2*twoj+twos)/2)*(-1)**((twolambd-twom)/2)\n",
        "  gorro= (w*exp*hat(twol)*hat(twolp)*hat(twoj)*hat(twojp))/hat(twolambd)\n",
        "  a=nj.wigner3j(twoj,twolambd,twojp,-twom,twom-twomp,twomp)\n",
        "  b=nj.wigner6j(twol,twoj,twos,twojp,twolp,twolambd)\n",
        "  c=nj.wigner3j(twol,twolambd,twolp,0,0,0)\n",
        "  return a*b*c*gorro\n",
        "def potencial(i,twol,twoj,twos,ip,twolp,twojp,maxlambda,phi,angdefle,lu,POT,t,EIGE,k,kp):\n",
        "  l,lp=twol/2,twolp/2\n",
        "  l,lp=int(l),int(lp)\n",
        "  parametroIm=param_im(angdefle)\n",
        "  excentricidad=np.sqrt(1+(parametroIm/a0)**2)\n",
        "  theta=np.arcsin( (np.sqrt(excentricidad**2-1)*np.sinh(t))/(excentricidad*np.cosh(t)+1))\n",
        "  potencialcom=0+0j\n",
        "  coef=0+0j\n",
        "  for Lambda in range(maxlambda):\n",
        "    intradial=0+0j\n",
        "    for n in range(30):\n",
        "      coef=EIGE[i][l][k][n]*EIGE[ip][lp][kp][n]*POT[lu][n][Lambda]\n",
        "      intradial+=coef\n",
        "    twoj,twojp=int(twoj),int(twojp)\n",
        "    for twom in range(-twoj,twoj+2,2):\n",
        "      for twomp in range(-twojp,twojp+2,2):\n",
        "        mu=(twom-twomp)/2\n",
        "        mu=int(mu)\n",
        "        a=0+0j\n",
        "        if(mu<=Lambda and mu>=-Lambda):\n",
        "          a=sph_harm_conj(mu,Lambda,theta,phi)\n",
        "          K2=coeficiente(twol,twolp,twoj,twojp,1,twom,twomp,2*Lambda)\n",
        "          a*=K2\n",
        "          a*=intradial\n",
        "          potencialcom+=a\n",
        "        else:\n",
        "          a=0+0j\n",
        "          a*=intradial\n",
        "          potencialcom+=a\n",
        "  expima=1j**(lp-l)\n",
        "  return expima*potencialcom\n",
        "\n",
        "def FunRK4(i,l,k,s,a,cotmaxi,maxl,maxk,angdefle,lu,POT,ENERGY,t,EIGE):\n",
        "  j=np.abs(l-s)+k\n",
        "  j*=2\n",
        "  j=int(j)\n",
        "  F=0+0j\n",
        "  if(ENERGY[i][l][k]<Energy_Cota):\n",
        "    parametroIm=param_im(angdefle)\n",
        "    excentricidad=np.sqrt(1+(parametroIm/a0)**2)\n",
        "    exponente=1j*(excentricidad*np.sinh(t)+t)/ecarac\n",
        "    multi=(-1j)*(excentricidad*np.cosh(t)+1)/(ecarac)\n",
        "    for ip in range(cotmaxi):\n",
        "      coef=maxk\n",
        "      for lp in range(maxl):\n",
        "        if lp<s: MAXK=2*lp+1\n",
        "        else: MAXK=coef\n",
        "        for mp in range(MAXK):\n",
        "          jp=np.abs(lp-s)+mp\n",
        "          jp*=2\n",
        "          jp=int(jp)\n",
        "          Vo=potencial(i, 2*l, j, 2*s, ip, 2*lp, jp, maxilambda, np.pi/2, angdefle, lu, POT, t, EIGE, k, mp)\n",
        "          x=ENERGY[i][l][k]-ENERGY[ip][lp][mp]\n",
        "          x=np.exp(x*exponente)\n",
        "          G=multi*x*Vo*a[ip][lp][mp]\n",
        "          F+=G\n",
        "  return F"
      ],
      "metadata": {
        "id": "1vfyubdqUFxi"
      },
      "execution_count": 4,
      "outputs": []
    },
    {
      "cell_type": "code",
      "source": [
        "#Hallar el cotmaxi para alguna cote de energia\n",
        "ENERGY,EIGE=Be_11(maxi,maxl,maxk,1/2)\n",
        "for i in range (maxi):\n",
        "  if(ENERGY[i][0][0]<=Energy_Cota):\n",
        "    cotmaxi=i+1\n",
        "i,l,j,s=0,0,1/2,1/2\n",
        "h=espaciado\n",
        "angulo=60\n",
        "#for angulo in range(10,100,10):\n",
        "angdefle=angulo*np.pi/180\n",
        "AR=coefU_Lambda(angdefle,1) # U(omega_i)\n",
        "BR=coefU_Lambda(angdefle,2) # U(omega_i + 1/2 h)\n",
        "CR=coefU_Lambda(angdefle,3) # U(omega_i + h)\n",
        "a=np.zeros((cotmaxi,maxl, maxk),dtype=np.complex128) #Sera el vector A= (a_{i,l,j})\n",
        "a[0][0][0]=1\n",
        "k1=np.zeros((cotmaxi,maxl, maxk),dtype=np.complex128) \n",
        "k2=np.zeros((cotmaxi,maxl, maxk),dtype=np.complex128) \n",
        "k3=np.zeros((cotmaxi,maxl, maxk),dtype=np.complex128) \n",
        "k4=np.zeros((cotmaxi,maxl, maxk),dtype=np.complex128)\n",
        "for lu in range(NumPasos):\n",
        "  for i in range(cotmaxi):\n",
        "    coef=maxk\n",
        "    for l in range(maxl):\n",
        "      if l<0: MAXK=2*l+1\n",
        "      else: MAXK=coef\n",
        "      for m in range(MAXK):\n",
        "        k1[i][l][m]=FunRK4(i,l,m,s,a,cotmaxi,maxl,maxk,angdefle,lu,AR,ENERGY,t[lu], EIGE)\n",
        "  for i in range(cotmaxi):\n",
        "    coef=maxk\n",
        "    for l in range(maxl):\n",
        "      if l<0: MAXK=2*l+1\n",
        "      else: MAXK=coef \n",
        "      for m in range(MAXK):\n",
        "        k2[i][l][m]=FunRK4(i,l,m,s,a+0.5*h*k1,cotmaxi,maxl,maxk,angdefle,lu,BR,ENERGY,t[lu]+0.5*h, EIGE)\n",
        "  for i in range(cotmaxi):\n",
        "    coef=maxk\n",
        "    for l in range(maxl):\n",
        "      if l<0: MAXK=2*l+1\n",
        "      else: MAXK=coef \n",
        "      for m in range(MAXK):\n",
        "        k3[i][l][m]=FunRK4(i,l,m,s,a+0.5*h*k2,cotmaxi,maxl,maxk,angdefle,lu,BR,ENERGY,t[lu]+0.5*h, EIGE)\n",
        "  for i in range(cotmaxi):\n",
        "    coef=maxk\n",
        "    for l in range(maxl):\n",
        "      if l<0: MAXK=2*l+1\n",
        "      else: MAXK=coef \n",
        "      for m in range(MAXK):\n",
        "        k4[i][l][m]=FunRK4(i,l,m,s,a,cotmaxi,maxl,maxk,angdefle,lu,CR,ENERGY,t[lu]+h, EIGE)\n",
        "  a=a+h*(k1+2*k2+2*k3+k4)/6 \n",
        "\n"
      ],
      "metadata": {
        "id": "2oYafDiyWkUJ"
      },
      "execution_count": null,
      "outputs": []
    },
    {
      "cell_type": "code",
      "source": [
        "conservacion=0\n",
        "i,l,m=0,1,0\n",
        "print(a)\n",
        "for i in range (cotmaxi):\n",
        "  for l in range (maxl):\n",
        "    for m in range(maxk):\n",
        "      abs=np.abs(a[i][l][m].real*a[i][l][m].real+a[i][l][m].imag*a[i][l][m].imag)\n",
        "      conservacion+=abs\n",
        "print(conservacion)"
      ],
      "metadata": {
        "colab": {
          "base_uri": "https://localhost:8080/",
          "height": 244
        },
        "id": "5Yd3Ceiirzte",
        "outputId": "748c0e48-bd18-465e-97f4-9d1a9d503033"
      },
      "execution_count": 1,
      "outputs": [
        {
          "output_type": "error",
          "ename": "NameError",
          "evalue": "ignored",
          "traceback": [
            "\u001b[0;31m---------------------------------------------------------------------------\u001b[0m",
            "\u001b[0;31mNameError\u001b[0m                                 Traceback (most recent call last)",
            "\u001b[0;32m<ipython-input-1-50065305343b>\u001b[0m in \u001b[0;36m<module>\u001b[0;34m()\u001b[0m\n\u001b[1;32m      1\u001b[0m \u001b[0mconservacion\u001b[0m\u001b[0;34m=\u001b[0m\u001b[0;36m0\u001b[0m\u001b[0;34m\u001b[0m\u001b[0;34m\u001b[0m\u001b[0m\n\u001b[1;32m      2\u001b[0m \u001b[0mi\u001b[0m\u001b[0;34m,\u001b[0m\u001b[0ml\u001b[0m\u001b[0;34m,\u001b[0m\u001b[0mm\u001b[0m\u001b[0;34m=\u001b[0m\u001b[0;36m0\u001b[0m\u001b[0;34m,\u001b[0m\u001b[0;36m1\u001b[0m\u001b[0;34m,\u001b[0m\u001b[0;36m0\u001b[0m\u001b[0;34m\u001b[0m\u001b[0;34m\u001b[0m\u001b[0m\n\u001b[0;32m----> 3\u001b[0;31m \u001b[0mprint\u001b[0m\u001b[0;34m(\u001b[0m\u001b[0ma\u001b[0m\u001b[0;34m)\u001b[0m\u001b[0;34m\u001b[0m\u001b[0;34m\u001b[0m\u001b[0m\n\u001b[0m\u001b[1;32m      4\u001b[0m \u001b[0;32mfor\u001b[0m \u001b[0mi\u001b[0m \u001b[0;32min\u001b[0m \u001b[0mrange\u001b[0m \u001b[0;34m(\u001b[0m\u001b[0mcotmaxi\u001b[0m\u001b[0;34m)\u001b[0m\u001b[0;34m:\u001b[0m\u001b[0;34m\u001b[0m\u001b[0;34m\u001b[0m\u001b[0m\n\u001b[1;32m      5\u001b[0m   \u001b[0;32mfor\u001b[0m \u001b[0ml\u001b[0m \u001b[0;32min\u001b[0m \u001b[0mrange\u001b[0m \u001b[0;34m(\u001b[0m\u001b[0mmaxl\u001b[0m\u001b[0;34m)\u001b[0m\u001b[0;34m:\u001b[0m\u001b[0;34m\u001b[0m\u001b[0;34m\u001b[0m\u001b[0m\n",
            "\u001b[0;31mNameError\u001b[0m: name 'a' is not defined"
          ]
        }
      ]
    },
    {
      "cell_type": "code",
      "source": [
        "#Suma de probabilidad (deberian ser 1)\n",
        "ANGULO=[10,20,30,40,50,60,70]\n",
        "PROBABILIDAD_14=[1.0000023209891769,1.0000080296774987,0.9999129693390505,0.9892100308828048,0.8416285819038332,0.34809113277442333,0.024285182242899276]\n",
        "PROBABILIDAD_10=[1.0000022966839444,1.0000079253033056,0.999912758746622,0.9892097016738611,0.8416280419598696,0.34809050920616197,0.02428513064207284]\n",
        "PROBABILIDAD_6=[1.0000022231515544,1.0000076445702892,0.9999122082779932,0.9892088222381472,0.8416262117166425,0.3480877817288649,0.024284859694405525]\n",
        "\n",
        "plt.figure(figsize=(10,6))\n",
        "plt.rcParams.update({'font.size': 14})\n",
        "mpl.rcParams['xtick.major.size'] = mpl.rcParams['ytick.major.size'] = 10 #mpl.rcParams['xtick.major.width'] = 4\n",
        "mpl.rcParams['xtick.minor.size'] = mpl.rcParams['ytick.minor.size'] = 10 #Lineas 3,4,5 modifican el tamaño de las letras\n",
        "plt.plot(ANGULO,PROBABILIDAD_14,label=r'Energia 14')\n",
        "plt.plot(ANGULO,PROBABILIDAD_10,label=r'Energia 10')\n",
        "plt.plot(ANGULO,PROBABILIDAD_6,label=r'Energia 6')\n",
        "#plt.title(f'Energia {Energy_Cota} ')\n",
        "plt.legend()\n",
        "#plt.ylim(-0.0005,0.0001)\n",
        "plt.grid(True)\n",
        "plt.show()"
      ],
      "metadata": {
        "colab": {
          "base_uri": "https://localhost:8080/",
          "height": 385
        },
        "id": "CZ42FthNjEh0",
        "outputId": "d8bc74aa-1c88-4953-9cc2-6f4bbdda2344"
      },
      "execution_count": null,
      "outputs": [
        {
          "output_type": "display_data",
          "data": {
            "text/plain": [
              "<Figure size 720x432 with 1 Axes>"
            ],
            "image/png": "[encoded data removed]"
          },
          "metadata": {
            "needs_background": "light"
          }
        }
      ]
    },
    {
      "cell_type": "code",
      "source": [
        "#coefcientes a[0][0][0] despues del RK4 en varios angulos\n",
        "ANGULO=[10,20,30,40,50,60,70]\n",
        "A_14=[9.99967570e-01+7.73618976e-05j,9.99719139e-01+3.62612194e-04j,9.99170096e-01+7.77537809e-04j,9.93096685e-01+1.25111735e-03j,9.15352704e-01+1.73668002e-03j,5.88504169e-01+1.79172999e-03j,1.55474327e-01+7.36198110e-04j ]\n",
        "A_10=[9.99967558e-01+7.73076555e-05j,9.99719087e-01+3.62220533e-04j,9.99169991e-01+7.76469194e-04j,9.93096520e-01+1.24911783e-03j,9.15352410e-01+1.73391457e-03j,5.88503643e-01+1.78969946e-03j,1.55474165e-01+7.35919761e-04j ]\n",
        "A_6=[9.99967522e-01+7.70585091e-05j,9.99718947e-01+3.60555329e-04j,9.99169717e-01+7.71959246e-04j,9.93096080e-01+1.24063020e-03j,9.15351416e-01+1.72209912e-03j,5.88501425e-01+1.78121920e-03j ,1.55473599e-01+7.35277835e-04j ]\n",
        "A_0=[0.99997195+4.06987010e-05j,0.9998134 +1.54108757e-04j,0.99946347+3.19544513e-04j,0.99367262+5.20680151e-04j,0.91611057+0.00077401j,0.58893469+0.00097129j ,0.15544726+0.00052021j ]\n",
        "\n",
        "for i in range(len(A_14)):\n",
        "  '''\n",
        "  A_14[i]=Rutherford(a0,ANGULO[i]*np.pi/180)*np.abs(A_14[i].real*A_14[i].real+A_14[i].imag*A_14[i].imag)\n",
        "  A_10[i]=Rutherford(a0,ANGULO[i]*np.pi/180)*np.abs(A_10[i].real*A_10[i].real+A_10[i].imag*A_10[i].imag)\n",
        "  A_6[i]=Rutherford(a0,ANGULO[i]*np.pi/180)*np.abs(A_6[i].real*A_6[i].real+A_6[i].imag*A_6[i].imag)\n",
        "  A_0[i]=Rutherford(a0,ANGULO[i]*np.pi/180)*np.abs(A_0[i].real*A_0[i].real+A_0[i].imag*A_0[i].imag)\n",
        "  '''\n",
        "  A_14[i]=np.abs(A_14[i].real*A_14[i].real+A_14[i].imag*A_14[i].imag)\n",
        "  A_10[i]=np.abs(A_10[i].real*A_10[i].real+A_10[i].imag*A_10[i].imag)\n",
        "  A_6[i]=np.abs(A_6[i].real*A_6[i].real+A_6[i].imag*A_6[i].imag)\n",
        "  A_0[i]=np.abs(A_0[i].real*A_0[i].real+A_0[i].imag*A_0[i].imag)\n",
        "\n",
        "\n",
        "plt.figure(figsize=(10,6))\n",
        "plt.rcParams.update({'font.size': 14})\n",
        "mpl.rcParams['xtick.major.size'] = mpl.rcParams['ytick.major.size'] = 10 #mpl.rcParams['xtick.major.width'] = 4\n",
        "mpl.rcParams['xtick.minor.size'] = mpl.rcParams['ytick.minor.size'] = 10 #Lineas 3,4,5 modifican el tamaño de las letras\n",
        "plt.plot(ANGULO,A_14,label=r'Energia 14')\n",
        "plt.plot(ANGULO,A_10,label=r'Energia 10')\n",
        "plt.plot(ANGULO,A_6,label=r'Energia 6')\n",
        "plt.plot(ANGULO,A_0,label=r'Energia 0')\n",
        "#plt.plot(ANGULO,ENERGIA_10,label=r'Energia 10')\n",
        "#plt.plot(ANGULO,ENERGIA_6,label=r'Energia 6')\n",
        "#plt.title(f'Energia {Energy_Cota} ')\n",
        "plt.legend()\n",
        "#plt.ylim(-0.0005,0.0001)\n",
        "plt.grid(True)\n",
        "plt.show()\n"
      ],
      "metadata": {
        "colab": {
          "base_uri": "https://localhost:8080/",
          "height": 385
        },
        "id": "Qy_f8dZxJOdJ",
        "outputId": "b03ff5e1-9678-4e05-b559-2156f9d0d92b"
      },
      "execution_count": null,
      "outputs": [
        {
          "output_type": "display_data",
          "data": {
            "text/plain": [
              "<Figure size 720x432 with 1 Axes>"
            ],
            "image/png": "[encoded data removed]"
          },
          "metadata": {
            "needs_background": "light"
          }
        }
      ]
    }
  ]
}